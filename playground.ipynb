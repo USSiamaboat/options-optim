{
 "cells": [
  {
   "cell_type": "markdown",
   "id": "141a53ca",
   "metadata": {},
   "source": [
    "# Options Portfolio Optimization"
   ]
  },
  {
   "cell_type": "code",
   "execution_count": 1,
   "id": "1cde65ef",
   "metadata": {},
   "outputs": [],
   "source": [
    "import numpy as np\n",
    "import pandas as pd\n",
    "\n",
    "from typing import Dict\n",
    "from numpy.typing import NDArray\n",
    "\n",
    "import matplotlib.pyplot as plt\n",
    "import seaborn as sns\n",
    "\n",
    "from sklearn.linear_model import Ridge, RidgeCV\n",
    "from sklearn.model_selection import TimeSeriesSplit\n",
    "from sklearn.metrics import mean_squared_error, r2_score, accuracy_score, precision_score, recall_score, roc_auc_score\n",
    "\n",
    "import xgboost as xgb\n",
    "\n",
    "from scipy.optimize import minimize\n",
    "\n",
    "import yfinance as yf\n",
    "from py_vollib.black_scholes_merton.greeks.analytical import delta, theta, gamma, vega, rho"
   ]
  },
  {
   "cell_type": "code",
   "execution_count": 2,
   "id": "2637ee5b",
   "metadata": {},
   "outputs": [],
   "source": [
    "TICKER : str = \"INTC\"\n",
    "RISK_FREE_RATE_TICKER : str = \"^IRX\"\n",
    "PERIOD_YEARS : int = 5\n",
    "YF_PERIOD_STR : str = f\"{PERIOD_YEARS}y\""
   ]
  },
  {
   "cell_type": "markdown",
   "id": "6b42f364",
   "metadata": {},
   "source": [
    "## Preprocessing"
   ]
  },
  {
   "cell_type": "code",
   "execution_count": 3,
   "id": "5360d1e1",
   "metadata": {},
   "outputs": [
    {
     "name": "stdout",
     "output_type": "stream",
     "text": [
      "<class 'pandas.core.frame.DataFrame'>\n",
      "RangeIndex: 1003146 entries, 0 to 1003145\n",
      "Data columns (total 13 columns):\n",
      " #   Column      Non-Null Count    Dtype         \n",
      "---  ------      --------------    -----         \n",
      " 0   date        1003146 non-null  datetime64[ns]\n",
      " 1   symbol      1003146 non-null  object        \n",
      " 2   expiration  1003146 non-null  datetime64[ns]\n",
      " 3   strike      1003146 non-null  float64       \n",
      " 4   type        1003146 non-null  object        \n",
      " 5   bid         1003146 non-null  float64       \n",
      " 6   ask         1003146 non-null  float64       \n",
      " 7   vol         1003146 non-null  float64       \n",
      " 8   delta       1003146 non-null  float64       \n",
      " 9   gamma       1003146 non-null  float64       \n",
      " 10  theta       1003146 non-null  float64       \n",
      " 11  vega        1003146 non-null  float64       \n",
      " 12  rho         1003146 non-null  float64       \n",
      "dtypes: datetime64[ns](2), float64(9), object(2)\n",
      "memory usage: 99.5+ MB\n"
     ]
    }
   ],
   "source": [
    "# Load and reformat options chain history\n",
    "raw_options_df = pd.read_csv(\"tech-options-chains.csv\", parse_dates=[\"date\", \"expiration\"])\n",
    "\n",
    "raw_options_df = raw_options_df.rename(\n",
    "    {\"act_symbol\": \"symbol\",\n",
    "     \"call_put\": \"type\"},\n",
    "    axis = 1\n",
    ")\n",
    "\n",
    "raw_options_df.info()"
   ]
  },
  {
   "cell_type": "code",
   "execution_count": null,
   "id": "3aafd620",
   "metadata": {},
   "outputs": [
    {
     "name": "stdout",
     "output_type": "stream",
     "text": [
      "<class 'pandas.core.frame.DataFrame'>\n",
      "Index: 96510 entries, 522 to 902113\n",
      "Data columns (total 16 columns):\n",
      " #   Column         Non-Null Count  Dtype         \n",
      "---  ------         --------------  -----         \n",
      " 0   date           96510 non-null  datetime64[ns]\n",
      " 1   symbol         96510 non-null  object        \n",
      " 2   expiration     96510 non-null  datetime64[ns]\n",
      " 3   strike         96510 non-null  float64       \n",
      " 4   type           96510 non-null  object        \n",
      " 5   bid            96510 non-null  float64       \n",
      " 6   ask            96510 non-null  float64       \n",
      " 7   vol            96510 non-null  float64       \n",
      " 8   delta          96510 non-null  float64       \n",
      " 9   gamma          96510 non-null  float64       \n",
      " 10  theta          96510 non-null  float64       \n",
      " 11  vega           96510 non-null  float64       \n",
      " 12  rho            96510 non-null  float64       \n",
      " 13  unique_symbol  96510 non-null  object        \n",
      " 14  mid_price      96510 non-null  float64       \n",
      " 15  spread         96510 non-null  float64       \n",
      "dtypes: datetime64[ns](2), float64(11), object(3)\n",
      "memory usage: 12.5+ MB\n"
     ]
    }
   ],
   "source": [
    "# Restrict chain ticker and dates\n",
    "end_date = raw_options_df[\"date\"].max()\n",
    "latest_start_date = end_date -  pd.Timedelta(days=365 * PERIOD_YEARS)\n",
    "start_date = raw_options_df[raw_options_df[\"date\"] < latest_start_date][\"date\"].max()\n",
    "\n",
    "options_df = raw_options_df[(raw_options_df[\"date\"] >= start_date) & (raw_options_df[\"date\"] <= end_date)]\n",
    "options_df = options_df[options_df[\"symbol\"] == TICKER]\n",
    "\n",
    "# Create useful columns\n",
    "options_df[\"unique_symbol\"] = (\n",
    "    options_df[\"symbol\"] +\n",
    "    options_df[\"expiration\"].dt.strftime(\"%Y%m%d\") +\n",
    "    options_df[\"type\"].str[0] +\n",
    "    options_df[\"strike\"].astype(str)\n",
    ")\n",
    "\n",
    "options_df[\"mid_price\"] = (options_df[\"bid\"] + options_df[\"ask\"]) / 2\n",
    "\n",
    "options_df[\"spread\"] = options_df[\"ask\"] - options_df[\"bid\"]\n",
    "\n",
    "options_df.info()"
   ]
  },
  {
   "cell_type": "code",
   "execution_count": 5,
   "id": "3f9e43b7",
   "metadata": {},
   "outputs": [],
   "source": [
    "# Load stock data\n",
    "stock = yf.Ticker(TICKER)\n",
    "risk_free = yf.Ticker(RISK_FREE_RATE_TICKER)\n",
    "\n",
    "# Stock starts one year earlier to compute annualized dividend\n",
    "stock_df = stock.history(start = start_date - pd.Timedelta(days = 366), end = end_date + pd.Timedelta(days = 1))\n",
    "risk_free_df = risk_free.history(start = start_date, end = end_date)"
   ]
  },
  {
   "cell_type": "code",
   "execution_count": 6,
   "id": "d4da400f",
   "metadata": {},
   "outputs": [],
   "source": [
    "# Prepare stock and treasury data for merge\n",
    "stock_close = stock_df[[\"Close\"]].reset_index()\n",
    "stock_close = stock_close.rename({\"Close\": \"stock\"}, axis = 1)\n",
    "\n",
    "risk_free_close = risk_free_df[[\"Close\"]].reset_index()\n",
    "risk_free_close = risk_free_close.rename({\"Close\": \"risk-free\"}, axis = 1)\n",
    "\n",
    "# Prevent times from interfering with merge\n",
    "stock_close[\"Date\"] = pd.to_datetime(stock_close[\"Date\"].apply(lambda x: x.date()))\n",
    "risk_free_close[\"Date\"] = pd.to_datetime(risk_free_close[\"Date\"].apply(lambda x: x.date()))\n",
    "\n",
    "# Merge\n",
    "combined_close = stock_close.merge(risk_free_close, on=\"Date\", how=\"inner\")\n",
    "combined_close = combined_close.rename({\"Date\": \"date\"})\n",
    "combined_close = combined_close.set_index(\"Date\")"
   ]
  },
  {
   "cell_type": "code",
   "execution_count": 7,
   "id": "35bf9d79",
   "metadata": {},
   "outputs": [],
   "source": [
    "# Reindex to all days and cut off outside of range\n",
    "full_date_range = pd.date_range(\n",
    "    start = combined_close.index.min(),\n",
    "    end = options_df[\"date\"].max(),\n",
    "    freq = \"D\"\n",
    ")\n",
    "\n",
    "combined_close = combined_close.reindex(full_date_range).ffill()"
   ]
  },
  {
   "cell_type": "code",
   "execution_count": 8,
   "id": "8f9e9433",
   "metadata": {},
   "outputs": [],
   "source": [
    "# Compute annualized dividends\n",
    "long_date_range = pd.date_range(\n",
    "    start = combined_close.index.min() - pd.Timedelta(days = 365),\n",
    "    end = options_df[\"date\"].max(),\n",
    "    freq = \"D\"\n",
    ")\n",
    "\n",
    "dividends = stock_df[\"Dividends\"].reset_index()\n",
    "dividends[\"Date\"] = pd.to_datetime(dividends[\"Date\"].apply(lambda x: x.date()))\n",
    "dividends = dividends.set_index(\"Date\").reindex(long_date_range)[\"Dividends\"].fillna(0)\n",
    "\n",
    "simple_yield = dividends.rolling(window=365).sum() / combined_close[\"stock\"]\n",
    "continuous_yield = np.log(1 + simple_yield)"
   ]
  },
  {
   "cell_type": "code",
   "execution_count": 9,
   "id": "810de905",
   "metadata": {},
   "outputs": [],
   "source": [
    "def compute_greeks(options_df_row: pd.Series) -> dict[str, float]:\n",
    "    date = options_df_row[\"date\"]\n",
    "    combined_close_row = combined_close.loc[date]\n",
    "    trailing_year_dividends = continuous_yield.loc[date]\n",
    "\n",
    "    greek_inputs = {\n",
    "        \"flag\": options_df_row[\"type\"][0].lower(), # Always \"c\" or \"p\"\n",
    "        \"S\": combined_close_row[\"stock\"],\n",
    "        \"K\": options_df_row[\"strike\"],\n",
    "        \"t\": (options_df_row[\"expiration\"] - date).days / 365,\n",
    "        \"r\": combined_close_row[\"risk-free\"] / 100, # Divide because ^IRX is in %\n",
    "        \"sigma\": options_df_row[\"vol\"],\n",
    "        \"q\": trailing_year_dividends\n",
    "    }\n",
    "\n",
    "    return {\n",
    "        \"delta\": delta(**greek_inputs),\n",
    "        \"gamma\": gamma(**greek_inputs),\n",
    "        \"theta\": theta(**greek_inputs),\n",
    "        \"vega\": vega(**greek_inputs),\n",
    "        \"rho\": rho(**greek_inputs)\n",
    "    }\n"
   ]
  },
  {
   "cell_type": "code",
   "execution_count": 10,
   "id": "70ab95de",
   "metadata": {},
   "outputs": [],
   "source": [
    "def create_inputs(options_df_row: pd.Series) -> dict[str, float]:\n",
    "    date = options_df_row[\"date\"]\n",
    "    combined_close_row = combined_close.loc[date]\n",
    "\n",
    "    ans = compute_greeks(options_df_row)\n",
    "\n",
    "    ans[\"dte\"] = (options_df_row[\"expiration\"] - options_df_row[\"date\"]).days\n",
    "    ans[\"moneyness\"] = (options_df_row[\"strike\"] / combined_close_row[\"stock\"])\n",
    "\n",
    "    return ans"
   ]
  },
  {
   "cell_type": "code",
   "execution_count": 11,
   "id": "853a353c",
   "metadata": {},
   "outputs": [
    {
     "name": "stderr",
     "output_type": "stream",
     "text": [
      "/opt/anaconda3/envs/quant/lib/python3.13/site-packages/py_vollib/ref_python/black_scholes_merton/__init__.py:87: RuntimeWarning: divide by zero encountered in scalar divide\n",
      "  return numerator / denominator\n",
      "/opt/anaconda3/envs/quant/lib/python3.13/site-packages/py_vollib/black_scholes_merton/greeks/analytical.py:210: RuntimeWarning: invalid value encountered in scalar divide\n",
      "  return numerator / denominator\n"
     ]
    }
   ],
   "source": [
    "# Create inputs\n",
    "input_df = options_df.apply(create_inputs, axis=1)\n",
    "input_df = pd.DataFrame(input_df.to_list(), index = options_df.index)\n",
    "\n",
    "# Create targets\n",
    "target_df = options_df.sort_values(by=[\"unique_symbol\", \"date\"])\n",
    "target_df[\"next_day_return\"] = target_df.groupby(\"unique_symbol\")[\"mid_price\"].pct_change().shift(-1)"
   ]
  },
  {
   "cell_type": "code",
   "execution_count": 12,
   "id": "79e29557",
   "metadata": {},
   "outputs": [
    {
     "data": {
      "text/html": [
       "<div>\n",
       "<style scoped>\n",
       "    .dataframe tbody tr th:only-of-type {\n",
       "        vertical-align: middle;\n",
       "    }\n",
       "\n",
       "    .dataframe tbody tr th {\n",
       "        vertical-align: top;\n",
       "    }\n",
       "\n",
       "    .dataframe thead th {\n",
       "        text-align: right;\n",
       "    }\n",
       "</style>\n",
       "<table border=\"1\" class=\"dataframe\">\n",
       "  <thead>\n",
       "    <tr style=\"text-align: right;\">\n",
       "      <th></th>\n",
       "      <th>delta</th>\n",
       "      <th>gamma</th>\n",
       "      <th>theta</th>\n",
       "      <th>vega</th>\n",
       "      <th>rho</th>\n",
       "      <th>dte</th>\n",
       "      <th>moneyness</th>\n",
       "      <th>date</th>\n",
       "      <th>symbol</th>\n",
       "      <th>expiration</th>\n",
       "      <th>strike</th>\n",
       "      <th>type</th>\n",
       "      <th>bid</th>\n",
       "      <th>ask</th>\n",
       "      <th>vol</th>\n",
       "      <th>unique_symbol</th>\n",
       "      <th>mid_price</th>\n",
       "      <th>spread</th>\n",
       "      <th>next_day_return</th>\n",
       "    </tr>\n",
       "  </thead>\n",
       "  <tbody>\n",
       "    <tr>\n",
       "      <th>96509</th>\n",
       "      <td>-0.979505</td>\n",
       "      <td>0.005380</td>\n",
       "      <td>-0.005947</td>\n",
       "      <td>0.007133</td>\n",
       "      <td>-0.098655</td>\n",
       "      <td>56</td>\n",
       "      <td>1.441303</td>\n",
       "      <td>2020-07-24</td>\n",
       "      <td>INTC</td>\n",
       "      <td>2020-09-18</td>\n",
       "      <td>65.0</td>\n",
       "      <td>Put</td>\n",
       "      <td>14.80</td>\n",
       "      <td>15.15</td>\n",
       "      <td>0.4249</td>\n",
       "      <td>INTC20200918P65.0</td>\n",
       "      <td>14.975</td>\n",
       "      <td>0.35</td>\n",
       "      <td>0.060100</td>\n",
       "    </tr>\n",
       "    <tr>\n",
       "      <th>96428</th>\n",
       "      <td>0.009248</td>\n",
       "      <td>0.004522</td>\n",
       "      <td>-0.004861</td>\n",
       "      <td>0.002198</td>\n",
       "      <td>0.000154</td>\n",
       "      <td>14</td>\n",
       "      <td>1.341520</td>\n",
       "      <td>2020-07-24</td>\n",
       "      <td>INTC</td>\n",
       "      <td>2020-08-07</td>\n",
       "      <td>60.5</td>\n",
       "      <td>Call</td>\n",
       "      <td>0.05</td>\n",
       "      <td>0.11</td>\n",
       "      <td>0.6231</td>\n",
       "      <td>INTC20200807C60.5</td>\n",
       "      <td>0.080</td>\n",
       "      <td>0.06</td>\n",
       "      <td>-0.562500</td>\n",
       "    </tr>\n",
       "    <tr>\n",
       "      <th>96429</th>\n",
       "      <td>-0.989671</td>\n",
       "      <td>0.004522</td>\n",
       "      <td>-0.008179</td>\n",
       "      <td>0.002198</td>\n",
       "      <td>-0.023051</td>\n",
       "      <td>14</td>\n",
       "      <td>1.341520</td>\n",
       "      <td>2020-07-24</td>\n",
       "      <td>INTC</td>\n",
       "      <td>2020-08-07</td>\n",
       "      <td>60.5</td>\n",
       "      <td>Put</td>\n",
       "      <td>10.20</td>\n",
       "      <td>10.65</td>\n",
       "      <td>0.6231</td>\n",
       "      <td>INTC20200807P60.5</td>\n",
       "      <td>10.425</td>\n",
       "      <td>0.45</td>\n",
       "      <td>0.083933</td>\n",
       "    </tr>\n",
       "    <tr>\n",
       "      <th>96430</th>\n",
       "      <td>0.002883</td>\n",
       "      <td>0.001726</td>\n",
       "      <td>-0.001602</td>\n",
       "      <td>0.000780</td>\n",
       "      <td>0.000048</td>\n",
       "      <td>14</td>\n",
       "      <td>1.374781</td>\n",
       "      <td>2020-07-24</td>\n",
       "      <td>INTC</td>\n",
       "      <td>2020-08-07</td>\n",
       "      <td>62.0</td>\n",
       "      <td>Call</td>\n",
       "      <td>0.06</td>\n",
       "      <td>0.10</td>\n",
       "      <td>0.5788</td>\n",
       "      <td>INTC20200807C62.0</td>\n",
       "      <td>0.080</td>\n",
       "      <td>0.04</td>\n",
       "      <td>-0.500000</td>\n",
       "    </tr>\n",
       "    <tr>\n",
       "      <th>96431</th>\n",
       "      <td>-0.992270</td>\n",
       "      <td>0.003281</td>\n",
       "      <td>-0.007065</td>\n",
       "      <td>0.001644</td>\n",
       "      <td>-0.023669</td>\n",
       "      <td>14</td>\n",
       "      <td>1.374781</td>\n",
       "      <td>2020-07-24</td>\n",
       "      <td>INTC</td>\n",
       "      <td>2020-08-07</td>\n",
       "      <td>62.0</td>\n",
       "      <td>Put</td>\n",
       "      <td>11.65</td>\n",
       "      <td>12.10</td>\n",
       "      <td>0.6424</td>\n",
       "      <td>INTC20200807P62.0</td>\n",
       "      <td>11.875</td>\n",
       "      <td>0.45</td>\n",
       "      <td>0.080000</td>\n",
       "    </tr>\n",
       "  </tbody>\n",
       "</table>\n",
       "</div>"
      ],
      "text/plain": [
       "          delta     gamma     theta      vega       rho  dte  moneyness  \\\n",
       "96509 -0.979505  0.005380 -0.005947  0.007133 -0.098655   56   1.441303   \n",
       "96428  0.009248  0.004522 -0.004861  0.002198  0.000154   14   1.341520   \n",
       "96429 -0.989671  0.004522 -0.008179  0.002198 -0.023051   14   1.341520   \n",
       "96430  0.002883  0.001726 -0.001602  0.000780  0.000048   14   1.374781   \n",
       "96431 -0.992270  0.003281 -0.007065  0.001644 -0.023669   14   1.374781   \n",
       "\n",
       "            date symbol expiration  strike  type    bid    ask     vol  \\\n",
       "96509 2020-07-24   INTC 2020-09-18    65.0   Put  14.80  15.15  0.4249   \n",
       "96428 2020-07-24   INTC 2020-08-07    60.5  Call   0.05   0.11  0.6231   \n",
       "96429 2020-07-24   INTC 2020-08-07    60.5   Put  10.20  10.65  0.6231   \n",
       "96430 2020-07-24   INTC 2020-08-07    62.0  Call   0.06   0.10  0.5788   \n",
       "96431 2020-07-24   INTC 2020-08-07    62.0   Put  11.65  12.10  0.6424   \n",
       "\n",
       "           unique_symbol  mid_price  spread  next_day_return  \n",
       "96509  INTC20200918P65.0     14.975    0.35         0.060100  \n",
       "96428  INTC20200807C60.5      0.080    0.06        -0.562500  \n",
       "96429  INTC20200807P60.5     10.425    0.45         0.083933  \n",
       "96430  INTC20200807C62.0      0.080    0.04        -0.500000  \n",
       "96431  INTC20200807P62.0     11.875    0.45         0.080000  "
      ]
     },
     "execution_count": 12,
     "metadata": {},
     "output_type": "execute_result"
    }
   ],
   "source": [
    "# Create unified dataset\n",
    "df = pd.merge(\n",
    "    left = input_df.reset_index(),\n",
    "    right = target_df.reset_index().drop(columns = [\"delta\", \"gamma\", \"theta\", \"vega\", \"rho\"]),\n",
    "    on=\"index\"\n",
    ").dropna().drop(columns = [\"index\"]).sort_values(by = \"date\")\n",
    "\n",
    "df.head()"
   ]
  },
  {
   "cell_type": "code",
   "execution_count": 13,
   "id": "c1256368",
   "metadata": {},
   "outputs": [
    {
     "data": {
      "image/png": "[encoded data removed]",
      "text/plain": [
       "<Figure size 640x480 with 1 Axes>"
      ]
     },
     "metadata": {},
     "output_type": "display_data"
    },
    {
     "name": "stdout",
     "output_type": "stream",
     "text": [
      "-0.9291916939586091 3.3738815789473806\n"
     ]
    }
   ],
   "source": [
    "plt.hist(df[\"next_day_return\"][df[\"next_day_return\"] < np.inf], bins = 121, log=True)\n",
    "plt.xlabel(\"next_day_return\")\n",
    "plt.ylabel(\"frequency (log scale)\")\n",
    "plt.show()\n",
    "\n",
    "print(df[\"next_day_return\"].quantile(0.005), df[\"next_day_return\"].quantile(0.995))"
   ]
  },
  {
   "cell_type": "code",
   "execution_count": 14,
   "id": "6a155efd",
   "metadata": {},
   "outputs": [],
   "source": [
    "# Clip bad next_day_returns\n",
    "MIN_RETURN = -0.92\n",
    "MAX_RETURN = 3\n",
    "\n",
    "df = df[(df[\"next_day_return\"] > MIN_RETURN) & (df[\"next_day_return\"] < MAX_RETURN)]"
   ]
  },
  {
   "cell_type": "code",
   "execution_count": 15,
   "id": "978cfe9a",
   "metadata": {},
   "outputs": [
    {
     "name": "stdout",
     "output_type": "stream",
     "text": [
      "Training from 2020-07-24 to 2024-11-11\n",
      "Testing from 2024-11-11 to 2025-07-23\n"
     ]
    }
   ],
   "source": [
    "# Create model-ready data\n",
    "features = [\"dte\", \"moneyness\", \"vol\", \"delta\", \"gamma\", \"theta\", \"vega\", \"rho\"]\n",
    "target = \"next_day_return\"\n",
    "\n",
    "X = df[features]\n",
    "y = df[target]\n",
    "\n",
    "split_point = int(0.8 * len(df))\n",
    "\n",
    "X_train, X_test = X[:split_point], X[split_point:]\n",
    "y_train, y_test = y[:split_point], y[split_point:]\n",
    "\n",
    "y_train_class = (y_train > 0).astype(int)\n",
    "y_test_class = (y_test > 0).astype(int)\n",
    "\n",
    "print(f\"Training from {df[\"date\"].min().date()} to {df[\"date\"].iloc[split_point - 1].date()}\")\n",
    "print(f\"Testing from {df[\"date\"].iloc[split_point].date()} to {df[\"date\"].max().date()}\")"
   ]
  },
  {
   "cell_type": "markdown",
   "id": "2a737d69",
   "metadata": {},
   "source": [
    "## Modeling"
   ]
  },
  {
   "cell_type": "markdown",
   "id": "c6b3eede",
   "metadata": {},
   "source": [
    "### Ridge Regression"
   ]
  },
  {
   "cell_type": "code",
   "execution_count": 16,
   "id": "0de6b214",
   "metadata": {},
   "outputs": [
    {
     "name": "stdout",
     "output_type": "stream",
     "text": [
      "Test MSE: 0.1512\n",
      "Test R^2: 0.0004\n"
     ]
    }
   ],
   "source": [
    "ridge_model = Ridge(alpha=1)\n",
    "ridge_model.fit(X_train, y_train)\n",
    "\n",
    "y_pred = ridge_model.predict(X_test)\n",
    "\n",
    "print(f\"Test MSE: {mean_squared_error(y_test, y_pred):.4f}\")\n",
    "print(f\"Test R^2: {r2_score(y_test, y_pred):.4f}\")"
   ]
  },
  {
   "cell_type": "code",
   "execution_count": 17,
   "id": "8498d761",
   "metadata": {},
   "outputs": [
    {
     "name": "stdout",
     "output_type": "stream",
     "text": [
      "Best alpha: 1000000.0\n",
      "Test MSE: 0.1517\n",
      "Test R^2: -0.0030\n"
     ]
    }
   ],
   "source": [
    "alphas = np.logspace(-6, 6, 13)\n",
    "\n",
    "time_cv = TimeSeriesSplit(n_splits=5)\n",
    "\n",
    "ridge_cv_model = RidgeCV(\n",
    "    alphas=alphas,\n",
    "    cv=time_cv,\n",
    "    scoring=\"neg_mean_squared_error\"\n",
    ")\n",
    "ridge_cv_model.fit(X_train, y_train)\n",
    "\n",
    "y_pred = ridge_cv_model.predict(X_test)\n",
    "\n",
    "print(f\"Best alpha: {ridge_cv_model.alpha_}\")\n",
    "print(f\"Test MSE: {mean_squared_error(y_test, y_pred):.4f}\")\n",
    "print(f\"Test R^2: {r2_score(y_test, y_pred):.4f}\")"
   ]
  },
  {
   "cell_type": "markdown",
   "id": "7f89dc6e",
   "metadata": {},
   "source": [
    "### XGBoost Regression"
   ]
  },
  {
   "cell_type": "code",
   "execution_count": 18,
   "id": "101b84fe",
   "metadata": {},
   "outputs": [
    {
     "name": "stdout",
     "output_type": "stream",
     "text": [
      "Test MSE: 0.1659\n",
      "Test R^2: -0.0969\n"
     ]
    }
   ],
   "source": [
    "xgb_model = xgb.XGBRegressor(\n",
    "    n_estimators=1000,\n",
    "    max_depth=3,\n",
    "    learning_rate=0.1,\n",
    "    subsample=0.8,\n",
    "    colsample_bytree=0.8,\n",
    "    objective=\"reg:squarederror\",\n",
    "    n_jobs=-1,\n",
    "    random_state=42\n",
    ")\n",
    "\n",
    "xgb_model.fit(\n",
    "    X_train,\n",
    "    y_train,\n",
    "    eval_set=[(X_test, y_test)],\n",
    "    verbose=False\n",
    ")\n",
    "\n",
    "y_pred = xgb_model.predict(X_test)\n",
    "\n",
    "print(f\"Test MSE: {mean_squared_error(y_test, y_pred):.4f}\")\n",
    "print(f\"Test R^2: {r2_score(y_test, y_pred):.4f}\")"
   ]
  },
  {
   "cell_type": "markdown",
   "id": "314f8101",
   "metadata": {},
   "source": [
    "### XGBoost Classification"
   ]
  },
  {
   "cell_type": "code",
   "execution_count": 19,
   "id": "b120fd94",
   "metadata": {},
   "outputs": [
    {
     "name": "stdout",
     "output_type": "stream",
     "text": [
      "Accuracy: 0.4799\n",
      "Precision: 0.4028\n",
      "Recall: 0.6857\n",
      "ROC AUC: 0.5245\n"
     ]
    }
   ],
   "source": [
    "neg_count = y_train_class.value_counts()[0]\n",
    "pos_count = y_train_class.value_counts()[1]\n",
    "scale_pos_weight_value = neg_count / pos_count\n",
    "\n",
    "xgb_classifier = xgb.XGBClassifier(\n",
    "    n_estimators=1000,\n",
    "    max_depth=3,\n",
    "    learning_rate=0.1,\n",
    "    subsample=0.8,\n",
    "    colsample_bytree=0.8,\n",
    "    objective=\"binary:logistic\",\n",
    "    scale_pos_weight=scale_pos_weight_value,\n",
    "    n_jobs=-1,\n",
    "    random_state=42\n",
    ")\n",
    "\n",
    "xgb_classifier.fit(\n",
    "    X_train,\n",
    "    y_train_class,\n",
    "    eval_set=[(X_test, y_test_class)],\n",
    "    verbose=False\n",
    ")\n",
    "\n",
    "y_pred_proba = xgb_classifier.predict_proba(X_test)[:, 1]\n",
    "y_pred_class = (y_pred_proba > 0.5).astype(int)\n",
    "\n",
    "print(f\"Accuracy: {accuracy_score(y_test_class, y_pred_class):.4f}\")\n",
    "print(f\"Precision: {precision_score(y_test_class, y_pred_class):.4f}\")\n",
    "print(f\"Recall: {recall_score(y_test_class, y_pred_class):.4f}\")\n",
    "print(f\"ROC AUC: {roc_auc_score(y_test_class, y_pred_proba):.4f}\")"
   ]
  },
  {
   "cell_type": "code",
   "execution_count": 20,
   "id": "b1f6bd04",
   "metadata": {},
   "outputs": [
    {
     "data": {
      "text/html": [
       "<div>\n",
       "<style scoped>\n",
       "    .dataframe tbody tr th:only-of-type {\n",
       "        vertical-align: middle;\n",
       "    }\n",
       "\n",
       "    .dataframe tbody tr th {\n",
       "        vertical-align: top;\n",
       "    }\n",
       "\n",
       "    .dataframe thead th {\n",
       "        text-align: right;\n",
       "    }\n",
       "</style>\n",
       "<table border=\"1\" class=\"dataframe\">\n",
       "  <thead>\n",
       "    <tr style=\"text-align: right;\">\n",
       "      <th></th>\n",
       "      <th>confidence_threshold</th>\n",
       "      <th>precision</th>\n",
       "      <th>num_trades</th>\n",
       "      <th>coverage_pct</th>\n",
       "    </tr>\n",
       "  </thead>\n",
       "  <tbody>\n",
       "    <tr>\n",
       "      <th>35</th>\n",
       "      <td>0.85</td>\n",
       "      <td>0.470588</td>\n",
       "      <td>17</td>\n",
       "      <td>0.110540</td>\n",
       "    </tr>\n",
       "    <tr>\n",
       "      <th>36</th>\n",
       "      <td>0.86</td>\n",
       "      <td>0.437500</td>\n",
       "      <td>16</td>\n",
       "      <td>0.104038</td>\n",
       "    </tr>\n",
       "    <tr>\n",
       "      <th>37</th>\n",
       "      <td>0.87</td>\n",
       "      <td>0.400000</td>\n",
       "      <td>10</td>\n",
       "      <td>0.065024</td>\n",
       "    </tr>\n",
       "    <tr>\n",
       "      <th>38</th>\n",
       "      <td>0.88</td>\n",
       "      <td>0.428571</td>\n",
       "      <td>7</td>\n",
       "      <td>0.045517</td>\n",
       "    </tr>\n",
       "    <tr>\n",
       "      <th>39</th>\n",
       "      <td>0.89</td>\n",
       "      <td>0.428571</td>\n",
       "      <td>7</td>\n",
       "      <td>0.045517</td>\n",
       "    </tr>\n",
       "  </tbody>\n",
       "</table>\n",
       "</div>"
      ],
      "text/plain": [
       "    confidence_threshold  precision  num_trades  coverage_pct\n",
       "35                  0.85   0.470588          17      0.110540\n",
       "36                  0.86   0.437500          16      0.104038\n",
       "37                  0.87   0.400000          10      0.065024\n",
       "38                  0.88   0.428571           7      0.045517\n",
       "39                  0.89   0.428571           7      0.045517"
      ]
     },
     "execution_count": 20,
     "metadata": {},
     "output_type": "execute_result"
    }
   ],
   "source": [
    "results_df = pd.DataFrame({\n",
    "    \"true_label\": y_test_class,\n",
    "    \"predicted_probability\": y_pred_proba\n",
    "})\n",
    "\n",
    "thresholds = np.arange(0.5, 0.9, 0.01)\n",
    "\n",
    "analysis_results = []\n",
    "\n",
    "for threshold in thresholds:\n",
    "    confident_predictions = results_df[results_df[\"predicted_probability\"] > threshold]\n",
    "\n",
    "    num_predictions = len(confident_predictions)\n",
    "\n",
    "    if num_predictions == 0:\n",
    "        precision = 0\n",
    "    else:\n",
    "        correct_positive_predictions = confident_predictions[\"true_label\"].sum()\n",
    "        precision = correct_positive_predictions / num_predictions\n",
    "\n",
    "    analysis_results.append({\n",
    "        \"confidence_threshold\": threshold,\n",
    "        \"precision\": precision,\n",
    "        \"num_trades\": num_predictions,\n",
    "        \"coverage_pct\": (num_predictions / len(results_df)) * 100,\n",
    "    })\n",
    "\n",
    "threshold_analysis_df = pd.DataFrame(analysis_results)\n",
    "threshold_analysis_df.tail(5)"
   ]
  },
  {
   "cell_type": "code",
   "execution_count": 21,
   "id": "468a78b6",
   "metadata": {},
   "outputs": [
    {
     "data": {
      "image/png": "[encoded data removed]",
      "text/plain": [
       "<Figure size 640x480 with 1 Axes>"
      ]
     },
     "metadata": {},
     "output_type": "display_data"
    },
    {
     "data": {
      "image/png": "[encoded data removed]",
      "text/plain": [
       "<Figure size 640x480 with 1 Axes>"
      ]
     },
     "metadata": {},
     "output_type": "display_data"
    }
   ],
   "source": [
    "sns.scatterplot(\n",
    "    threshold_analysis_df[threshold_analysis_df[\"num_trades\"] > 0],\n",
    "    x = \"confidence_threshold\",\n",
    "    y = \"precision\"\n",
    ")\n",
    "plt.show()\n",
    "\n",
    "sns.scatterplot(\n",
    "    threshold_analysis_df[threshold_analysis_df[\"num_trades\"] > 0],\n",
    "    x = \"coverage_pct\",\n",
    "    y = \"precision\"\n",
    ")\n",
    "plt.show()"
   ]
  },
  {
   "cell_type": "markdown",
   "id": "8729e7a3",
   "metadata": {},
   "source": [
    "## Optimization"
   ]
  },
  {
   "cell_type": "code",
   "execution_count": 22,
   "id": "9d572bbe",
   "metadata": {},
   "outputs": [],
   "source": [
    "def objective_function(weights: NDArray[np.float32], probs: NDArray[np.float32],\n",
    "                       cov_matrix: NDArray[np.float32], risk_aversion: float) -> float:\n",
    "    ev_estimate = np.dot(weights, probs)\n",
    "    var_estimate = np.dot(weights.T, np.dot(cov_matrix, weights))\n",
    "\n",
    "    utility = ev_estimate - var_estimate * risk_aversion\n",
    "\n",
    "    return -utility"
   ]
  },
  {
   "cell_type": "code",
   "execution_count": 23,
   "id": "ce40b4c2",
   "metadata": {},
   "outputs": [],
   "source": [
    "def run_optimizer(probabilities: pd.Series, cov_matrix: pd.DataFrame,\n",
    "                  risk_aversion: float = 10.0, verbose: bool = False) -> NDArray[np.float32]:\n",
    "    n_assets = len(probabilities)\n",
    "\n",
    "    if n_assets == 0:\n",
    "        return np.array([], dtype = np.float32)\n",
    "\n",
    "    x_uniform = np.array([1/n_assets] * n_assets)\n",
    "\n",
    "    result = minimize(\n",
    "        fun = objective_function,\n",
    "        x0 = x_uniform, # Initial guess of uniform allocation\n",
    "        args = (probabilities, cov_matrix, risk_aversion),\n",
    "        method = \"SLSQP\",\n",
    "        bounds = tuple((0, 1) for _ in range(n_assets)),\n",
    "        constraints = ({\"type\": \"eq\", \"fun\": lambda w: np.sum(w) - 1}, )\n",
    "    )\n",
    "\n",
    "    if result.success:\n",
    "        return result.x\n",
    "    else:\n",
    "        if verbose:\n",
    "            print(\"Optimization failed\")\n",
    "        \n",
    "        return result.x"
   ]
  },
  {
   "cell_type": "code",
   "execution_count": 24,
   "id": "54238f10",
   "metadata": {},
   "outputs": [],
   "source": [
    "def recommend(date: str, confidence_cutoff: float,\n",
    "              min_history: int = 5) -> Dict[str, float]:\n",
    "    # Create slice and window\n",
    "    input_slice = df[df[\"date\"] == date]\n",
    "    input_window = df[df[\"date\"] <= date]\n",
    "\n",
    "    # Restrict window to available symbols\n",
    "    input_slice = input_slice[input_slice[\"dte\"] > 0]\n",
    "    input_window = input_window[input_window[\"unique_symbol\"].isin(input_slice[\"unique_symbol\"].unique())]\n",
    "\n",
    "    # Remove if insufficient history\n",
    "    value_counts = input_window[\"unique_symbol\"].value_counts()\n",
    "    candidate_symbols = value_counts[value_counts >= min_history].index\n",
    "\n",
    "    input_window = input_window[input_window[\"unique_symbol\"].isin(candidate_symbols)]\n",
    "    input_slice = input_slice[input_slice[\"unique_symbol\"].isin(candidate_symbols)]\n",
    "\n",
    "    if len(input_slice) == 0:\n",
    "        return {}\n",
    "\n",
    "    # Keep only high confidence\n",
    "    probabilities = pd.Series(\n",
    "        index = input_slice[\"unique_symbol\"],\n",
    "        data = xgb_classifier.predict_proba(input_slice[features])[:, 1]\n",
    "    )\n",
    "    candidate_symbols = probabilities[probabilities > confidence_cutoff].index\n",
    "\n",
    "    if len(candidate_symbols) == 0:\n",
    "        return {}\n",
    "\n",
    "    input_window = input_window[input_window[\"unique_symbol\"].isin(candidate_symbols)]\n",
    "    cov_matrix = input_window.pivot(index = \"date\", columns = \"unique_symbol\", values = \"next_day_return\").cov()\n",
    "\n",
    "    # Align probabilities with cov_matrix columns\n",
    "    opt_probabilities = probabilities[cov_matrix.columns]\n",
    "\n",
    "    # Run optimizer\n",
    "    weights = run_optimizer(opt_probabilities, cov_matrix, 10)\n",
    "    \n",
    "    return dict(zip(cov_matrix.columns, weights.tolist()))"
   ]
  },
  {
   "cell_type": "markdown",
   "id": "a4d3905b",
   "metadata": {},
   "source": [
    "### Testing"
   ]
  },
  {
   "cell_type": "code",
   "execution_count": 25,
   "id": "2ee1cac5",
   "metadata": {},
   "outputs": [],
   "source": [
    "date_ = \"2025-02-21\"\n",
    "confidence_cutoff_ = 0.75\n",
    "\n",
    "input_slice_ = df[df[\"date\"] == date_] # Get all options for the date\n",
    "input_window_ = df[df[\"date\"] <= date_] # Get all options on or before the date\n",
    "input_window_ = input_window_[input_window_[\"unique_symbol\"].isin(input_slice_[\"unique_symbol\"].unique())] # Keep only tradable options\n",
    "\n",
    "value_counts_ = input_window_[\"unique_symbol\"].value_counts()\n",
    "candidate_symbols_ = value_counts_[value_counts_ >= 5].index # Keep only options with at least 5 days of history\n",
    "\n",
    "input_window_ = input_window_[input_window_[\"unique_symbol\"].isin(candidate_symbols_)] # Create clean window\n",
    "input_slice_ = input_slice_[input_slice_[\"unique_symbol\"].isin(candidate_symbols_)] # Create clean slice"
   ]
  },
  {
   "cell_type": "code",
   "execution_count": 26,
   "id": "4b1e803b",
   "metadata": {},
   "outputs": [],
   "source": [
    "# Checks\n",
    "assert(input_window_[\"unique_symbol\"].value_counts().min() >= 5)\n",
    "assert(input_window_[\"unique_symbol\"].isin(input_slice_[\"unique_symbol\"].unique()).mean() == 1)"
   ]
  },
  {
   "cell_type": "code",
   "execution_count": 27,
   "id": "3e044fbe",
   "metadata": {},
   "outputs": [],
   "source": [
    "probabilities_ = pd.Series(\n",
    "    index = input_slice_[\"unique_symbol\"],\n",
    "    data = xgb_classifier.predict_proba(input_slice_[features])[:, 1]\n",
    ")\n",
    "candidate_symbols_ = probabilities_[probabilities_ > confidence_cutoff_].index"
   ]
  },
  {
   "cell_type": "code",
   "execution_count": 28,
   "id": "abc54033",
   "metadata": {},
   "outputs": [
    {
     "data": {
      "text/html": [
       "<div>\n",
       "<style scoped>\n",
       "    .dataframe tbody tr th:only-of-type {\n",
       "        vertical-align: middle;\n",
       "    }\n",
       "\n",
       "    .dataframe tbody tr th {\n",
       "        vertical-align: top;\n",
       "    }\n",
       "\n",
       "    .dataframe thead th {\n",
       "        text-align: right;\n",
       "    }\n",
       "</style>\n",
       "<table border=\"1\" class=\"dataframe\">\n",
       "  <thead>\n",
       "    <tr style=\"text-align: right;\">\n",
       "      <th>unique_symbol</th>\n",
       "    </tr>\n",
       "    <tr>\n",
       "      <th>unique_symbol</th>\n",
       "    </tr>\n",
       "  </thead>\n",
       "  <tbody>\n",
       "  </tbody>\n",
       "</table>\n",
       "</div>"
      ],
      "text/plain": [
       "Empty DataFrame\n",
       "Columns: []\n",
       "Index: []"
      ]
     },
     "execution_count": 28,
     "metadata": {},
     "output_type": "execute_result"
    }
   ],
   "source": [
    "input_window_ = input_window_[input_window_[\"unique_symbol\"].isin(candidate_symbols_)]\n",
    "cov_matrix_ = input_window_.pivot(index = \"date\", columns = \"unique_symbol\", values = \"next_day_return\").cov()\n",
    "cov_matrix_"
   ]
  },
  {
   "cell_type": "code",
   "execution_count": 29,
   "id": "aec80b61",
   "metadata": {},
   "outputs": [],
   "source": [
    "index_ = cov_matrix_.columns\n",
    "opt_probabilities_ = probabilities_[index_]"
   ]
  },
  {
   "cell_type": "code",
   "execution_count": 30,
   "id": "a335527f",
   "metadata": {},
   "outputs": [],
   "source": [
    "results_ = run_optimizer(opt_probabilities_, cov_matrix_, 10)"
   ]
  },
  {
   "cell_type": "code",
   "execution_count": 31,
   "id": "b1aa8aa9",
   "metadata": {},
   "outputs": [
    {
     "data": {
      "text/plain": [
       "{}"
      ]
     },
     "execution_count": 31,
     "metadata": {},
     "output_type": "execute_result"
    }
   ],
   "source": [
    "{index_[i]: results_[i].item() for i in range(len(index_))}"
   ]
  },
  {
   "cell_type": "markdown",
   "id": "1eac8e09",
   "metadata": {},
   "source": [
    "## Backtesting"
   ]
  },
  {
   "cell_type": "code",
   "execution_count": 32,
   "id": "61915a48",
   "metadata": {},
   "outputs": [],
   "source": [
    "CONFIDENCE_CUTOFF = 0.8"
   ]
  },
  {
   "cell_type": "code",
   "execution_count": 33,
   "id": "ee5716c1",
   "metadata": {},
   "outputs": [],
   "source": [
    "trading_days = sorted(df[\"date\"].unique())\n",
    "\n",
    "portfolio_returns_log = []\n",
    "\n",
    "for date in trading_days:\n",
    "    # Today's weights\n",
    "    todays_weights = recommend(\n",
    "        date = date.strftime(\"%Y-%m-%d\"),\n",
    "        confidence_cutoff = CONFIDENCE_CUTOFF\n",
    "    )\n",
    "    \n",
    "    if not todays_weights:\n",
    "        daily_return = 0\n",
    "    else:\n",
    "        symbols_held = list(todays_weights.keys())\n",
    "\n",
    "        # Dataset provides next day returns in today's row, so we immediately know results\n",
    "        todays_returns = df[\n",
    "            (df[\"date\"] == date) &\n",
    "            (df[\"unique_symbol\"].isin(symbols_held))\n",
    "        ].set_index(\"unique_symbol\")[\"next_day_return\"]\n",
    "\n",
    "        # Align returns with weights\n",
    "        aligned_returns = todays_returns.reindex(symbols_held).fillna(0)\n",
    "\n",
    "        # Calculate returns today\n",
    "        daily_return = np.dot(list(todays_weights.values()), aligned_returns.values)\n",
    "\n",
    "    portfolio_returns_log.append(daily_return)\n",
    "\n",
    "daily_returns = pd.Series(\n",
    "    data = portfolio_returns_log,\n",
    "    index = trading_days\n",
    ")"
   ]
  },
  {
   "cell_type": "code",
   "execution_count": 34,
   "id": "e309239f",
   "metadata": {},
   "outputs": [
    {
     "name": "stdout",
     "output_type": "stream",
     "text": [
      "Win Rate: 3.65%\n",
      "Loss Rate: 0.71%\n",
      "Average Win: 27.25%\n",
      "Average Loss: -11.30%\n",
      "Final Cumulative Return: 36006.25%\n",
      "Annualized Sharpe Ratio: 1.67\n"
     ]
    }
   ],
   "source": [
    "cumulative_returns = (1 + daily_returns).cumprod() - 1\n",
    "sharpe_ratio = daily_returns.mean() / daily_returns.std() * np.sqrt(252)\n",
    "\n",
    "wins = daily_returns[daily_returns > 0]\n",
    "losses = daily_returns[daily_returns < 0]\n",
    "\n",
    "print(f\"Win Rate: {len(wins) / len(daily_returns):.2%}\")\n",
    "print(f\"Loss Rate: {len(losses) / len(daily_returns):.2%}\")\n",
    "print(f\"Average Win: {wins.mean():.2%}\")\n",
    "print(f\"Average Loss: {losses.mean():.2%}\")\n",
    "\n",
    "print(f\"Final Cumulative Return: {cumulative_returns.iloc[-1]:.2%}\")\n",
    "print(f\"Annualized Sharpe Ratio: {sharpe_ratio:.2f}\")"
   ]
  },
  {
   "cell_type": "code",
   "execution_count": 35,
   "id": "f8187621",
   "metadata": {},
   "outputs": [
    {
     "data": {
      "image/png": "[encoded data removed]",
      "text/plain": [
       "<Figure size 640x480 with 1 Axes>"
      ]
     },
     "metadata": {},
     "output_type": "display_data"
    }
   ],
   "source": [
    "last_train_date = df[\"date\"].iloc[:split_point].max()\n",
    "\n",
    "graph_df = pd.DataFrame({\"value\": (1 + daily_returns).cumprod(), \"split\": [\"test\"] * len(daily_returns)})\n",
    "graph_df.loc[graph_df.index <= last_train_date, \"split\"] = \"train\"\n",
    "graph_df = graph_df.reset_index(names = \"date\")\n",
    "\n",
    "sns.lineplot(\n",
    "    data = graph_df,\n",
    "    x = \"date\",\n",
    "    y = \"value\",\n",
    "    hue = \"split\",\n",
    ")\n",
    "\n",
    "plt.title(f\"{TICKER} Options Backtest Results\")\n",
    "plt.show()"
   ]
  }
 ],
 "metadata": {
  "kernelspec": {
   "display_name": "quant",
   "language": "python",
   "name": "python3"
  },
  "language_info": {
   "codemirror_mode": {
    "name": "ipython",
    "version": 3
   },
   "file_extension": ".py",
   "mimetype": "text/x-python",
   "name": "python",
   "nbconvert_exporter": "python",
   "pygments_lexer": "ipython3",
   "version": "3.13.5"
  }
 },
 "nbformat": 4,
 "nbformat_minor": 5
}
